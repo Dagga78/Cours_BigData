{
 "cells": [
  {
   "cell_type": "markdown",
   "source": [
    "## Exercices\n",
    "\n",
    "\n",
    "### Le compte bancaire\n",
    "\n",
    "Écrire un programme python qui permet de définir une classe CompteBancaire(), qui permette d’instancier des objets tels que compte1, compte2, etc. Le constructeur de cette classe initialisera deux attributs d’instance nom et solde, avec les valeurs par défaut ’Dupont’ et 1000.\n",
    "\n",
    "Trois autres méthodes seront définies :\n",
    "\n",
    "- depot(somme) permettra d’ajouter une certaine somme au solde ;\n",
    "- retrait(somme) permettra de retirer une certaine somme du solde ;\n",
    "- affiche() permettra d’afficher le nom du titulaire et le solde de son compte.\n",
    "\n",
    "\n",
    "Exemples d’exécution:\n",
    "```\n",
    ">>> compte1 = CompteBancaire(‘Duchmol’, 800)\n",
    ">>> compte1.depot(350)\n",
    ">>> compte1.retrait(200)\n",
    ">>> compte1.affiche()\n",
    "Le solde du compte bancaire de Duchmol est de 950 euros.\n",
    ">>> compte2 = CompteBancaire()\n",
    ">>> compte2.depot(25)\n",
    ">>> compte2.affiche()\n",
    "Le solde du compte bancaire de Dupont est de 1025 euros.\n",
    "\n",
    "```"
   ],
   "metadata": {
    "collapsed": false,
    "pycharm": {
     "name": "#%% md\n"
    }
   }
  },
  {
   "cell_type": "code",
   "execution_count": 11,
   "outputs": [
    {
     "name": "stdout",
     "text": [
      "Le solde du compte bancaire de Duchmol est de 950 euros.\n",
      "Le solde du compte bancaire de Dupont est de 1025 euros.\n"
     ],
     "output_type": "stream"
    }
   ],
   "source": [
    "class CompteBancaire : \n",
    "    def __init__(self, nom='Dupont', solde=1000) :\n",
    "        self.nom = nom\n",
    "        self.solde = solde\n",
    "\n",
    "    def depot(self, somme): \n",
    "        self.solde += somme\n",
    "        \n",
    "    def retrait(self, somme):\n",
    "        self.solde -= somme\n",
    "        \n",
    "    def affiche(self):\n",
    "        print('Le solde du compte bancaire de ' + self.nom + ' est de ' + str(self.solde) + ' euros.')\n",
    "\n",
    "compte1 = CompteBancaire('Duchmol', 800)\n",
    "compte1.depot(350)\n",
    "compte1.retrait(200)\n",
    "compte1.affiche()\n",
    "\n",
    "compte2 = CompteBancaire()\n",
    "compte2.depot(25)\n",
    "compte2.affiche()\n"
   ],
   "metadata": {
    "collapsed": false,
    "pycharm": {
     "name": "#%%\n",
     "is_executing": false
    }
   }
  },
  {
   "cell_type": "markdown",
   "source": [
    "### La surcharge d'opérateur \n",
    "\n",
    "Définir une classe Point avec un constructeur, un point est définit soit par deux coordonnées x et y, s’il s’agit d’une représentation d’un point au plan ou par trois coordonnées x, y et z, s’il s’agit d’une représentation d’un point en espace.\n",
    "\n",
    "La classe Point doit contenir une méthode ToString qui affiche le point.\n",
    "\n",
    "Exemple d’exécution:\n",
    "```\n",
    ">>>P1=Point(2,3)\n",
    ">>>P1.ToString()\n",
    "P(2.00 , 3.00)\n",
    ">>>P2=Point(1,-5,6)\n",
    ">>>P2.ToString()\n",
    "P(1.00 , -5.00 , 6.00)\n",
    "```"
   ],
   "metadata": {
    "collapsed": false,
    "pycharm": {
     "name": "#%% md\n"
    }
   }
  },
  {
   "cell_type": "code",
   "execution_count": 1,
   "outputs": [
    {
     "name": "stdout",
     "text": [
      "P(2.0 , 3.0)\n",
      "P(1.0 , -5.0 , 6.0)\n"
     ],
     "output_type": "stream"
    }
   ],
   "source": [
    "class Point : \n",
    "    def __init__(self, x, y, z=None) :\n",
    "        self.x = float(x)\n",
    "        self.y = float(y)\n",
    "        self.z = z\n",
    "        if z is not None : \n",
    "            self.z = float(z)\n",
    "\n",
    "    def ToString(self):\n",
    "        if self.z:\n",
    "            print('P('+ str(self.x) + ' , ' + str(self.y) + ' , ' + str(self.z) + ')')\n",
    "        else:\n",
    "            print('P('+ str(self.x) + ' , ' + str(self.y) + ')')\n",
    "\n",
    "        \n",
    "            \n",
    "        \n",
    "P1=Point(2,3)\n",
    "P1.ToString()\n",
    "P2=Point(1,-5,6)\n",
    "P2.ToString()"
   ],
   "metadata": {
    "collapsed": false,
    "pycharm": {
     "name": "#%%\n",
     "is_executing": false
    }
   }
  },
  {
   "cell_type": "markdown",
   "source": [
    "### L'héritage simple\n",
    "\n",
    "Définir les classes suivantes:\n",
    "\n",
    "- Une classe DateNaissance avec trois attributs, jour, mois, année et une méthode ToString qui convertit la date de naissance en chaine de caractères\n",
    "- Une classe Personne  avec trois attributs, nom, prénom et date de naissance et une méthode polymorphe Afficher pour afficher les données de chaque personne.\n",
    "- Une classe Employé qui dérive de la classe Personne, avec en plus un attribut Salaire et la redéfinition de la méthode Afficher.\n",
    "- Une classe Chef qui dérive de la classe Employé, avec en plus un attribut Service et la redéfinition de la méthode Afficher.\n",
    "\n",
    "Exemple d’exécution:\n",
    "\n",
    "```\n",
    ">>>P=personne(“Ilyass”,”Math”,DateNaissance(1,7,1982))\n",
    ">>>P.afficher()\n",
    "Nom: Ilyass \n",
    "Prénom: Math\n",
    "Date de naissance: 01 / 07 / 1982\n",
    "\n",
    ">>>E=employe(“Ilyass”,”Math”,DateNaissance(1,7,1985),7865.548)\n",
    ">>>E.afficher()\n",
    "Nom: Ilyass \n",
    "Prénom: Math\n",
    "Date de naissance: 01 / 07 / 1985\n",
    "Salaire: 7865.55\n",
    "\n",
    ">>>Ch=chef(“Ilyass”,”Math”,DateNaissance(1,7,1988),7865.548,”Ressource humaine”)\n",
    ">>>Ch.afficher()\n",
    "Nom: Ilyass \n",
    "Prénom: Math\n",
    "Date de naissance: 01 / 07 / 1988\n",
    "Salaire: 7865.55\n",
    "Service: Ressource humaine\n",
    "```"
   ],
   "metadata": {
    "collapsed": false,
    "pycharm": {
     "name": "#%% md\n"
    }
   }
  },
  {
   "cell_type": "code",
   "execution_count": 16,
   "outputs": [
    {
     "name": "stdout",
     "text": [
      "Nom: Ilyass\n",
      "Prénom: Math\n",
      "Date de naissance:: 1 / 7 / 1982\n",
      "Nom: Ilyass\n",
      "Prénom: Math\n",
      "Date de naissance:: 1 / 7 / 1985\n",
      "Salaire:: 7865.548\n",
      "Nom: Ilyass\n",
      "Prénom: Math\n",
      "Date de naissance:: 1 / 7 / 1988\n",
      "Salaire:: 7865.548\n",
      "Service:: Ressource humaine\n"
     ],
     "output_type": "stream"
    }
   ],
   "source": [
    "class DateNaissance : \n",
    "    def __init__(self, jour, mois, annee) :\n",
    "        self.jour = jour\n",
    "        self.mois = mois\n",
    "        self.annee = annee\n",
    "    \n",
    "    def __str__(self):\n",
    "        return str(self.jour) + ' / '+ str(self.mois) + ' / '+ str(self.annee)\n",
    "\n",
    "class Personne : \n",
    "    def __init__(self, nom, prenom, datenaissance) :\n",
    "        self.nom = nom\n",
    "        self.prenom = prenom\n",
    "        self.datenaissance = datenaissance\n",
    "        \n",
    "    def affiche(self):\n",
    "        print('Nom: ' + str(self.nom))\n",
    "        print('Prénom: ' + str(self.prenom))\n",
    "        print('Date de naissance:: ' + str(self.datenaissance))\n",
    "        \n",
    "P=Personne('Ilyass','Math',DateNaissance(1,7,1982))\n",
    "P.affiche()\n",
    "\n",
    "class Employe(Personne) : \n",
    "    def __init__(self, nom, prenom, datenaissance, salaire) :\n",
    "        Personne.__init__(self, nom, prenom, datenaissance)\n",
    "        self.salaire = salaire\n",
    "        \n",
    "    def affiche(self):\n",
    "        Personne.affiche(self)\n",
    "        print('Salaire:: ' + str(self.salaire))\n",
    "        \n",
    "E=Employe('Ilyass','Math',DateNaissance(1,7,1985),7865.548)\n",
    "E.affiche()\n",
    "\n",
    "class Chef(Employe) : \n",
    "    def __init__(self, nom, prenom, datenaissance, salaire, service) :\n",
    "        Employe.__init__(self, nom, prenom, datenaissance, salaire)\n",
    "        self.service = service\n",
    "        \n",
    "    def affiche(self):\n",
    "        Employe.affiche(self)\n",
    "        print('Service:: ' + str(self.service))\n",
    "\n",
    "Ch=Chef('Ilyass','Math',DateNaissance(1,7,1988),7865.548,'Ressource humaine')\n",
    "Ch.affiche()\n",
    "\n",
    "\n",
    "\n",
    "\n"
   ],
   "metadata": {
    "collapsed": false,
    "pycharm": {
     "name": "#%%\n",
     "is_executing": false
    }
   }
  },
  {
   "cell_type": "markdown",
   "metadata": {
    "collapsed": true,
    "pycharm": {
     "name": "#%% md\n"
    }
   },
   "source": [
    "## Exercice sur le polymorphisme\n",
    "\n",
    "### Consignes \n",
    "\n",
    "Une boîtes aux lettres recueille des courrier qui peuvent être des lettres ou des colis.\n",
    "\n",
    "Une lettre est caractérisée par :\n",
    "\n",
    "son poids (en grammes)\n",
    "le mode d’expédition (express ou normal)\n",
    "son adresse de destination\n",
    "son adresse d’expédition\n",
    "son format (“A3” ou “A4”)\n",
    "Un colis est caractérisé par :\n",
    "\n",
    "son poids (en grammes)\n",
    "le mode d’expédition (express ou normal)\n",
    "son adresse de destination\n",
    "son adresse d’expédition\n",
    "son volume (en litres )\n",
    "Il faut donc définir aussi les deux méthodes:\n",
    "\n",
    "calculTimbre: qui calcule le prix du Timbre\n",
    "ToString qui affiche un courrier\n",
    "Règles pour calculer le prix du Timbre :\n",
    "\n",
    "en mode d’expédition normal :\n",
    "\n",
    "Le montant nécessaire pour affranchir une lettre dépend de son format et de son poids : Formule : montant = tarif de base + 1.0 * poids (kilos), où le tarif de base pour une lettre “A4” est de 2.50, et 3.50 pour une lettre “A3”\n",
    "\n",
    "Le montant nécessaire pour affranchir un colis dépend de son poids et de son volume : Formule : montant = 0.25 volume (litres) + poids (kilos) 1.0\n",
    "\n",
    "en mode d’expédition express : les montants précédents sont doublés, quelque soit le type de courrier\n",
    "\n",
    "### Exemple d’exécution :\n",
    "```\n",
    ">>>L1=Lettre(“Lille”,”Paris”,80,”normal”,”A4″)\n",
    ">>>L1.ToString()\n",
    "Lettre:\n",
    "Adresse destination: Lille \n",
    "Adress expedition: Paris\n",
    "Poids: 80.00 grammes\n",
    "Mode: normal \n",
    "Format:A4\n",
    "Prix du timbre:0.20\n",
    ">>>C1=Colis(“Marrakeche”,”Barcelone “,3500,”expresse”,2.25)\n",
    ">>>C1.ToString()\n",
    "Collis:\n",
    "Adresse destination: Marrakeche \n",
    "Adress expedition: Barcelone \n",
    "Poids: 3500.00 grammes\n",
    "Mode: expresse \n",
    "Volume: 2.25 litres\n",
    "Prix du timbre:3937.50\n",
    "```\n",
    "\n",
    "son poids (en grammes)\n",
    "le mode d’expédition (express ou normal)\n",
    "son adresse de destination\n",
    "son adresse d’expédition\n",
    "son format (“A3” ou “A4”)\n",
    "Un colis est caractérisé par :\n",
    "\n",
    "son poids (en grammes)\n",
    "le mode d’expédition (express ou normal)\n",
    "son adresse de destination\n",
    "son adresse d’expédition\n",
    "son volume (en litres )"
   ]
  },
  {
   "cell_type": "code",
   "execution_count": 32,
   "outputs": [
    {
     "name": "stdout",
     "text": [
      "Adresse destination: Lille\n",
      "Adress expedition: Paris\n",
      "Poids: 80\n",
      "Mode: normal\n",
      "Format: A4\n",
      "Prix du timbre :0.2\n",
      "Adresse destination: Marrakeche\n",
      "Adress expedition: Barcelone\n",
      "Poids: 3500\n",
      "Mode: expresse\n",
      "Volume: 2.25\n",
      "Prix du timbre :3.9375\n"
     ],
     "output_type": "stream"
    }
   ],
   "source": [
    "class Courrier : \n",
    "    def __init__(self, destination, expedition, poids, mode) :\n",
    "        self.poids = poids\n",
    "        self.mode = mode\n",
    "        self.destination = destination\n",
    "        self.expedition = expedition\n",
    "        \n",
    "    def affiche(self):\n",
    "        print('Adresse destination: ' + str(self.destination))\n",
    "        print('Adress expedition: ' + str(self.expedition))\n",
    "        print('Poids: ' + str(self.poids))\n",
    "        print('Mode: ' + str(self.mode))\n",
    "\n",
    "class Lettre(Courrier) : \n",
    "    def __init__(self, destination, expedition, poids, mode, format) :\n",
    "        Courrier.__init__(self, destination, expedition, poids, mode)\n",
    "        self.format = format\n",
    "        \n",
    "    def calculTimbre(self):\n",
    "        tarif_de_base =3.50\n",
    "        if self.format == 'A4':\n",
    "            tarif_de_base = 2.50\n",
    "        montant = tarif_de_base * (self.poids/1000)\n",
    "        return montant\n",
    "\n",
    "    def affiche(self):\n",
    "        Courrier.affiche(self)\n",
    "        print('Format: ' + str(self.format))\n",
    "        print('Prix du timbre :' + str(self.calculTimbre()))\n",
    "        \n",
    "L1=Lettre('Lille','Paris',80,'normal','A4')\n",
    "L1.affiche()\n",
    "        \n",
    "class Colis(Courrier) : \n",
    "    def __init__(self, destination, expedition, poids, mode, volume) :\n",
    "        Courrier.__init__(self, destination, expedition, poids, mode)\n",
    "        self.volume = volume\n",
    "        \n",
    "    def calculTimbre(self):\n",
    "        montant = 0.25 * self.volume * self.poids/1000\n",
    "        if self.mode == 'expresse':\n",
    "            montant = montant*2\n",
    "        return montant\n",
    "\n",
    "    def affiche(self):\n",
    "        Courrier.affiche(self)\n",
    "        print('Volume: ' + str(self.volume))\n",
    "        print('Prix du timbre :' + str(self.calculTimbre()))\n",
    "        \n",
    "C1=Colis('Marrakeche','Barcelone',3500,'expresse',2.25)\n",
    "C1.affiche()"
   ],
   "metadata": {
    "collapsed": false,
    "pycharm": {
     "name": "#%%\n",
     "is_executing": false
    }
   }
  },
  {
   "cell_type": "code",
   "execution_count": null,
   "outputs": [],
   "source": [
    "\n"
   ],
   "metadata": {
    "collapsed": false,
    "pycharm": {
     "name": "#%%\n"
    }
   }
  }
 ],
 "metadata": {
  "kernelspec": {
   "name": "pycharm-40e4d4ed",
   "language": "python",
   "display_name": "PyCharm (Controle_DataScientist)"
  },
  "language_info": {
   "codemirror_mode": {
    "name": "ipython",
    "version": 2
   },
   "file_extension": ".py",
   "mimetype": "text/x-python",
   "name": "python",
   "nbconvert_exporter": "python",
   "pygments_lexer": "ipython2",
   "version": "2.7.6"
  },
  "pycharm": {
   "stem_cell": {
    "cell_type": "raw",
    "source": [],
    "metadata": {
     "collapsed": false
    }
   }
  }
 },
 "nbformat": 4,
 "nbformat_minor": 0
}