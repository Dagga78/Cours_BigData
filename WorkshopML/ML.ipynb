{
 "cells": [
  {
   "cell_type": "code",
   "execution_count": 2,
   "metadata": {
    "collapsed": true,
    "pycharm": {
     "is_executing": false
    }
   },
   "outputs": [
    {
     "name": "stdout",
     "text": [
      "<class 'pandas.core.frame.DataFrame'>\n",
      "RangeIndex: 24783 entries, 0 to 24782\n",
      "Data columns (total 7 columns):\n",
      " #   Column              Non-Null Count  Dtype \n",
      "---  ------              --------------  ----- \n",
      " 0   Unnamed: 0          24783 non-null  int64 \n",
      " 1   count               24783 non-null  int64 \n",
      " 2   hate_speech         24783 non-null  int64 \n",
      " 3   offensive_language  24783 non-null  int64 \n",
      " 4   neither             24783 non-null  int64 \n",
      " 5   class               24783 non-null  int64 \n",
      " 6   tweet               24783 non-null  object\n",
      "dtypes: int64(6), object(1)\n",
      "memory usage: 1.3+ MB\n"
     ],
     "output_type": "stream"
    }
   ],
   "source": [
    "import numpy as np\n",
    "import pandas as pd\n",
    "import matplotlib.pyplot as plt\n",
    "import seaborn as sns\n",
    "\n",
    "# Ouverture du fichier \n",
    "df = pd.read_csv(\"../data/labels.csv\",\",\",encoding='utf-8', low_memory=False)\n"
   ]
  },
  {
   "cell_type": "code",
   "execution_count": 10,
   "outputs": [
    {
     "data": {
      "text/plain": "         Unnamed: 0         count   hate_speech  offensive_language  \\\ncount  24783.000000  24783.000000  24783.000000        24783.000000   \nmean   12681.192027      3.243473      0.280515            2.413711   \nstd     7299.553863      0.883060      0.631851            1.399459   \nmin        0.000000      3.000000      0.000000            0.000000   \n25%     6372.500000      3.000000      0.000000            2.000000   \n50%    12703.000000      3.000000      0.000000            3.000000   \n75%    18995.500000      3.000000      0.000000            3.000000   \nmax    25296.000000      9.000000      7.000000            9.000000   \n\n            neither         class  \ncount  24783.000000  24783.000000  \nmean       0.549247      1.110277  \nstd        1.113299      0.462089  \nmin        0.000000      0.000000  \n25%        0.000000      1.000000  \n50%        0.000000      1.000000  \n75%        0.000000      1.000000  \nmax        9.000000      2.000000  ",
      "text/html": "<div>\n<style scoped>\n    .dataframe tbody tr th:only-of-type {\n        vertical-align: middle;\n    }\n\n    .dataframe tbody tr th {\n        vertical-align: top;\n    }\n\n    .dataframe thead th {\n        text-align: right;\n    }\n</style>\n<table border=\"1\" class=\"dataframe\">\n  <thead>\n    <tr style=\"text-align: right;\">\n      <th></th>\n      <th>Unnamed: 0</th>\n      <th>count</th>\n      <th>hate_speech</th>\n      <th>offensive_language</th>\n      <th>neither</th>\n      <th>class</th>\n    </tr>\n  </thead>\n  <tbody>\n    <tr>\n      <th>count</th>\n      <td>24783.000000</td>\n      <td>24783.000000</td>\n      <td>24783.000000</td>\n      <td>24783.000000</td>\n      <td>24783.000000</td>\n      <td>24783.000000</td>\n    </tr>\n    <tr>\n      <th>mean</th>\n      <td>12681.192027</td>\n      <td>3.243473</td>\n      <td>0.280515</td>\n      <td>2.413711</td>\n      <td>0.549247</td>\n      <td>1.110277</td>\n    </tr>\n    <tr>\n      <th>std</th>\n      <td>7299.553863</td>\n      <td>0.883060</td>\n      <td>0.631851</td>\n      <td>1.399459</td>\n      <td>1.113299</td>\n      <td>0.462089</td>\n    </tr>\n    <tr>\n      <th>min</th>\n      <td>0.000000</td>\n      <td>3.000000</td>\n      <td>0.000000</td>\n      <td>0.000000</td>\n      <td>0.000000</td>\n      <td>0.000000</td>\n    </tr>\n    <tr>\n      <th>25%</th>\n      <td>6372.500000</td>\n      <td>3.000000</td>\n      <td>0.000000</td>\n      <td>2.000000</td>\n      <td>0.000000</td>\n      <td>1.000000</td>\n    </tr>\n    <tr>\n      <th>50%</th>\n      <td>12703.000000</td>\n      <td>3.000000</td>\n      <td>0.000000</td>\n      <td>3.000000</td>\n      <td>0.000000</td>\n      <td>1.000000</td>\n    </tr>\n    <tr>\n      <th>75%</th>\n      <td>18995.500000</td>\n      <td>3.000000</td>\n      <td>0.000000</td>\n      <td>3.000000</td>\n      <td>0.000000</td>\n      <td>1.000000</td>\n    </tr>\n    <tr>\n      <th>max</th>\n      <td>25296.000000</td>\n      <td>9.000000</td>\n      <td>7.000000</td>\n      <td>9.000000</td>\n      <td>9.000000</td>\n      <td>2.000000</td>\n    </tr>\n  </tbody>\n</table>\n</div>"
     },
     "metadata": {},
     "output_type": "execute_result",
     "execution_count": 10
    }
   ],
   "source": [
    "df"
   ],
   "metadata": {
    "collapsed": false,
    "pycharm": {
     "name": "#%%\n",
     "is_executing": false
    }
   }
  },
  {
   "cell_type": "code",
   "execution_count": 11,
   "outputs": [
    {
     "data": {
      "text/plain": "         Unnamed: 0         count   hate_speech  offensive_language  \\\ncount  24783.000000  24783.000000  24783.000000        24783.000000   \nmean   12681.192027      3.243473      0.280515            2.413711   \nstd     7299.553863      0.883060      0.631851            1.399459   \nmin        0.000000      3.000000      0.000000            0.000000   \n25%     6372.500000      3.000000      0.000000            2.000000   \n50%    12703.000000      3.000000      0.000000            3.000000   \n75%    18995.500000      3.000000      0.000000            3.000000   \nmax    25296.000000      9.000000      7.000000            9.000000   \n\n            neither         class  \ncount  24783.000000  24783.000000  \nmean       0.549247      1.110277  \nstd        1.113299      0.462089  \nmin        0.000000      0.000000  \n25%        0.000000      1.000000  \n50%        0.000000      1.000000  \n75%        0.000000      1.000000  \nmax        9.000000      2.000000  ",
      "text/html": "<div>\n<style scoped>\n    .dataframe tbody tr th:only-of-type {\n        vertical-align: middle;\n    }\n\n    .dataframe tbody tr th {\n        vertical-align: top;\n    }\n\n    .dataframe thead th {\n        text-align: right;\n    }\n</style>\n<table border=\"1\" class=\"dataframe\">\n  <thead>\n    <tr style=\"text-align: right;\">\n      <th></th>\n      <th>Unnamed: 0</th>\n      <th>count</th>\n      <th>hate_speech</th>\n      <th>offensive_language</th>\n      <th>neither</th>\n      <th>class</th>\n    </tr>\n  </thead>\n  <tbody>\n    <tr>\n      <th>count</th>\n      <td>24783.000000</td>\n      <td>24783.000000</td>\n      <td>24783.000000</td>\n      <td>24783.000000</td>\n      <td>24783.000000</td>\n      <td>24783.000000</td>\n    </tr>\n    <tr>\n      <th>mean</th>\n      <td>12681.192027</td>\n      <td>3.243473</td>\n      <td>0.280515</td>\n      <td>2.413711</td>\n      <td>0.549247</td>\n      <td>1.110277</td>\n    </tr>\n    <tr>\n      <th>std</th>\n      <td>7299.553863</td>\n      <td>0.883060</td>\n      <td>0.631851</td>\n      <td>1.399459</td>\n      <td>1.113299</td>\n      <td>0.462089</td>\n    </tr>\n    <tr>\n      <th>min</th>\n      <td>0.000000</td>\n      <td>3.000000</td>\n      <td>0.000000</td>\n      <td>0.000000</td>\n      <td>0.000000</td>\n      <td>0.000000</td>\n    </tr>\n    <tr>\n      <th>25%</th>\n      <td>6372.500000</td>\n      <td>3.000000</td>\n      <td>0.000000</td>\n      <td>2.000000</td>\n      <td>0.000000</td>\n      <td>1.000000</td>\n    </tr>\n    <tr>\n      <th>50%</th>\n      <td>12703.000000</td>\n      <td>3.000000</td>\n      <td>0.000000</td>\n      <td>3.000000</td>\n      <td>0.000000</td>\n      <td>1.000000</td>\n    </tr>\n    <tr>\n      <th>75%</th>\n      <td>18995.500000</td>\n      <td>3.000000</td>\n      <td>0.000000</td>\n      <td>3.000000</td>\n      <td>0.000000</td>\n      <td>1.000000</td>\n    </tr>\n    <tr>\n      <th>max</th>\n      <td>25296.000000</td>\n      <td>9.000000</td>\n      <td>7.000000</td>\n      <td>9.000000</td>\n      <td>9.000000</td>\n      <td>2.000000</td>\n    </tr>\n  </tbody>\n</table>\n</div>"
     },
     "metadata": {},
     "output_type": "execute_result",
     "execution_count": 11
    }
   ],
   "source": [
    "df.describe()\n"
   ],
   "metadata": {
    "collapsed": false,
    "pycharm": {
     "name": "#%%\n",
     "is_executing": false
    }
   }
  },
  {
   "cell_type": "code",
   "execution_count": 13,
   "outputs": [
    {
     "data": {
      "text/plain": "       Unnamed: 0  count  hate_speech  offensive_language  neither  class  \\\n1296         1324      9            0                   9        0      1   \n1491         1522      9            0                   9        0      1   \n1600         1635      9            0                   9        0      1   \n1861         1899      9            0                   9        0      1   \n2723         2789      9            0                   9        0      1   \n...           ...    ...          ...                 ...      ...    ...   \n23039       23522      9            0                   9        0      1   \n23560       24052      9            0                   9        0      1   \n23793       24288      9            0                   9        0      1   \n24204       24708      9            0                   9        0      1   \n24563       25071      9            0                   9        0      1   \n\n                                                   tweet  \n1296   &#8220;@Hermosa_Jayy: Can I bring anotha bitch...  \n1491   &#8220;@RileyyBryn: &#8220;@devon_sheaa: I jus...  \n1600   &#8220;@WEEEDITH: All I want is bitches, big b...  \n1861   &#8220;@najmaaa_ali: Lool I agree RT&#8220;@st...  \n2723   @CDNBallJunkie Spurs bitch that's the team, yo...  \n...                                                  ...  \n23039                                  Y'all hoes so ugh  \n23560  all these beautiful bitches, sucha beautiful t...  \n23793  errybody in dis bitch getting tips (whispers) ...  \n24204  man kills mother of 2 after she reveals she's ...  \n24563                                         this bitch  \n\n[66 rows x 7 columns]",
      "text/html": "<div>\n<style scoped>\n    .dataframe tbody tr th:only-of-type {\n        vertical-align: middle;\n    }\n\n    .dataframe tbody tr th {\n        vertical-align: top;\n    }\n\n    .dataframe thead th {\n        text-align: right;\n    }\n</style>\n<table border=\"1\" class=\"dataframe\">\n  <thead>\n    <tr style=\"text-align: right;\">\n      <th></th>\n      <th>Unnamed: 0</th>\n      <th>count</th>\n      <th>hate_speech</th>\n      <th>offensive_language</th>\n      <th>neither</th>\n      <th>class</th>\n      <th>tweet</th>\n    </tr>\n  </thead>\n  <tbody>\n    <tr>\n      <th>1296</th>\n      <td>1324</td>\n      <td>9</td>\n      <td>0</td>\n      <td>9</td>\n      <td>0</td>\n      <td>1</td>\n      <td>&amp;#8220;@Hermosa_Jayy: Can I bring anotha bitch...</td>\n    </tr>\n    <tr>\n      <th>1491</th>\n      <td>1522</td>\n      <td>9</td>\n      <td>0</td>\n      <td>9</td>\n      <td>0</td>\n      <td>1</td>\n      <td>&amp;#8220;@RileyyBryn: &amp;#8220;@devon_sheaa: I jus...</td>\n    </tr>\n    <tr>\n      <th>1600</th>\n      <td>1635</td>\n      <td>9</td>\n      <td>0</td>\n      <td>9</td>\n      <td>0</td>\n      <td>1</td>\n      <td>&amp;#8220;@WEEEDITH: All I want is bitches, big b...</td>\n    </tr>\n    <tr>\n      <th>1861</th>\n      <td>1899</td>\n      <td>9</td>\n      <td>0</td>\n      <td>9</td>\n      <td>0</td>\n      <td>1</td>\n      <td>&amp;#8220;@najmaaa_ali: Lool I agree RT&amp;#8220;@st...</td>\n    </tr>\n    <tr>\n      <th>2723</th>\n      <td>2789</td>\n      <td>9</td>\n      <td>0</td>\n      <td>9</td>\n      <td>0</td>\n      <td>1</td>\n      <td>@CDNBallJunkie Spurs bitch that's the team, yo...</td>\n    </tr>\n    <tr>\n      <th>...</th>\n      <td>...</td>\n      <td>...</td>\n      <td>...</td>\n      <td>...</td>\n      <td>...</td>\n      <td>...</td>\n      <td>...</td>\n    </tr>\n    <tr>\n      <th>23039</th>\n      <td>23522</td>\n      <td>9</td>\n      <td>0</td>\n      <td>9</td>\n      <td>0</td>\n      <td>1</td>\n      <td>Y'all hoes so ugh</td>\n    </tr>\n    <tr>\n      <th>23560</th>\n      <td>24052</td>\n      <td>9</td>\n      <td>0</td>\n      <td>9</td>\n      <td>0</td>\n      <td>1</td>\n      <td>all these beautiful bitches, sucha beautiful t...</td>\n    </tr>\n    <tr>\n      <th>23793</th>\n      <td>24288</td>\n      <td>9</td>\n      <td>0</td>\n      <td>9</td>\n      <td>0</td>\n      <td>1</td>\n      <td>errybody in dis bitch getting tips (whispers) ...</td>\n    </tr>\n    <tr>\n      <th>24204</th>\n      <td>24708</td>\n      <td>9</td>\n      <td>0</td>\n      <td>9</td>\n      <td>0</td>\n      <td>1</td>\n      <td>man kills mother of 2 after she reveals she's ...</td>\n    </tr>\n    <tr>\n      <th>24563</th>\n      <td>25071</td>\n      <td>9</td>\n      <td>0</td>\n      <td>9</td>\n      <td>0</td>\n      <td>1</td>\n      <td>this bitch</td>\n    </tr>\n  </tbody>\n</table>\n<p>66 rows × 7 columns</p>\n</div>"
     },
     "metadata": {},
     "output_type": "execute_result",
     "execution_count": 13
    }
   ],
   "source": [
    "df = df[df['offensive_language'] == 9]"
   ],
   "metadata": {
    "collapsed": false,
    "pycharm": {
     "name": "#%%\n",
     "is_executing": false
    }
   }
  },
  {
   "cell_type": "code",
   "execution_count": 16,
   "outputs": [
    {
     "data": {
      "text/plain": "<Figure size 936x504 with 1 Axes>",
      "image/png": "[encoded data removed]"
     },
     "metadata": {
      "needs_background": "light"
     },
     "output_type": "display_data"
    }
   ],
   "source": [
    "from sklearn.cluster import KMeans\n",
    "d = {'offensive_language': df['offensive_language'], 'hate_speech': df['hate_speech']}\n",
    "dfScatter = pd.DataFrame(data=d)\n",
    "\n",
    "arr = dfScatter.to_numpy()\n",
    "transformation = [[1, 0], [0, 1]]\n",
    "X_aniso = np.dot(arr, transformation)\n",
    "\n",
    "# Défintion du modèle K-means avec 3 clusters\n",
    "kmeans = KMeans(n_clusters=3, random_state=0)\n",
    "\n",
    "# Prédictions\n",
    "y_pred = kmeans.fit_predict(X_aniso)\n",
    "\n",
    "# Graphique\n",
    "plt.figure(figsize=(13,7))\n",
    "plt.scatter(X_aniso[:, 0], X_aniso[:, 1], c=y_pred)\n",
    "plt.title('La répartition doffensive_language vs hate speech') \n",
    "plt.ylabel('offensive_language')\n",
    "plt.xlabel('hate speech')\n",
    "plt.show()\n",
    "\n"
   ],
   "metadata": {
    "collapsed": false,
    "pycharm": {
     "name": "#%%\n",
     "is_executing": false
    }
   }
  },
  {
   "cell_type": "code",
   "execution_count": null,
   "outputs": [],
   "source": [
    "\n"
   ],
   "metadata": {
    "collapsed": false,
    "pycharm": {
     "name": "#%%\n"
    }
   }
  }
 ],
 "metadata": {
  "kernelspec": {
   "name": "pycharm-40e4d4ed",
   "language": "python",
   "display_name": "PyCharm (Controle_DataScientist)"
  },
  "language_info": {
   "codemirror_mode": {
    "name": "ipython",
    "version": 2
   },
   "file_extension": ".py",
   "mimetype": "text/x-python",
   "name": "python",
   "nbconvert_exporter": "python",
   "pygments_lexer": "ipython2",
   "version": "2.7.6"
  },
  "pycharm": {
   "stem_cell": {
    "cell_type": "raw",
    "source": [],
    "metadata": {
     "collapsed": false
    }
   }
  }
 },
 "nbformat": 4,
 "nbformat_minor": 0
}